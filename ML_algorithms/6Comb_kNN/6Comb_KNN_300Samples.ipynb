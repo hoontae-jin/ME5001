{
 "cells": [
  {
   "cell_type": "code",
   "execution_count": 1,
   "id": "3f8c8b42",
   "metadata": {},
   "outputs": [],
   "source": [
    "import numpy as np\n",
    "import pandas as pd\n",
    "import math\n",
    "from sklearn.model_selection import train_test_split\n",
    "import sklearn.neighbors\n",
    "from sklearn.neighbors import KNeighborsRegressor\n",
    "from sklearn import metrics\n",
    "from sklearn.preprocessing import scale\n",
    "from collections import Counter\n",
    "from sklearn.metrics import mean_squared_error\n",
    "from sklearn.metrics import mean_absolute_error\n",
    "from sklearn.metrics import mean_absolute_percentage_error\n",
    "\n",
    "from math import sqrt\n",
    "import seaborn as sns\n",
    "import matplotlib.pyplot as plt\n",
    "from sklearn.model_selection import GridSearchCV"
   ]
  },
  {
   "cell_type": "code",
   "execution_count": 2,
   "id": "a90c3cf2",
   "metadata": {},
   "outputs": [
    {
     "data": {
      "text/html": [
       "<div>\n",
       "<style scoped>\n",
       "    .dataframe tbody tr th:only-of-type {\n",
       "        vertical-align: middle;\n",
       "    }\n",
       "\n",
       "    .dataframe tbody tr th {\n",
       "        vertical-align: top;\n",
       "    }\n",
       "\n",
       "    .dataframe thead th {\n",
       "        text-align: right;\n",
       "    }\n",
       "</style>\n",
       "<table border=\"1\" class=\"dataframe\">\n",
       "  <thead>\n",
       "    <tr style=\"text-align: right;\">\n",
       "      <th></th>\n",
       "      <th>1disk</th>\n",
       "      <th>2disk</th>\n",
       "      <th>3disk</th>\n",
       "      <th>4disk</th>\n",
       "      <th>5disk</th>\n",
       "      <th>6disk</th>\n",
       "      <th>5.00E+01</th>\n",
       "      <th>5.20E+01</th>\n",
       "      <th>5.40E+01</th>\n",
       "      <th>5.60E+01</th>\n",
       "      <th>...</th>\n",
       "      <th>1.58E+03.3</th>\n",
       "      <th>1.58E+03.4</th>\n",
       "      <th>1.59E+03</th>\n",
       "      <th>1.59E+03.1</th>\n",
       "      <th>1.59E+03.2</th>\n",
       "      <th>1.59E+03.3</th>\n",
       "      <th>1.59E+03.4</th>\n",
       "      <th>1.60E+03</th>\n",
       "      <th>1.60E+03.1</th>\n",
       "      <th>1.60E+03.2</th>\n",
       "    </tr>\n",
       "  </thead>\n",
       "  <tbody>\n",
       "    <tr>\n",
       "      <th>253</th>\n",
       "      <td>0.6</td>\n",
       "      <td>0.1</td>\n",
       "      <td>0.4</td>\n",
       "      <td>0.2</td>\n",
       "      <td>0.3</td>\n",
       "      <td>0.5</td>\n",
       "      <td>0.121</td>\n",
       "      <td>0.161</td>\n",
       "      <td>0.150</td>\n",
       "      <td>0.152</td>\n",
       "      <td>...</td>\n",
       "      <td>0.1370</td>\n",
       "      <td>0.1370</td>\n",
       "      <td>0.1350</td>\n",
       "      <td>0.1370</td>\n",
       "      <td>0.1380</td>\n",
       "      <td>0.1350</td>\n",
       "      <td>0.1340</td>\n",
       "      <td>0.1350</td>\n",
       "      <td>0.1340</td>\n",
       "      <td>0.1330</td>\n",
       "    </tr>\n",
       "    <tr>\n",
       "      <th>98</th>\n",
       "      <td>0.2</td>\n",
       "      <td>0.3</td>\n",
       "      <td>0.4</td>\n",
       "      <td>0.5</td>\n",
       "      <td>0.1</td>\n",
       "      <td>0.6</td>\n",
       "      <td>0.109</td>\n",
       "      <td>0.141</td>\n",
       "      <td>0.123</td>\n",
       "      <td>0.117</td>\n",
       "      <td>...</td>\n",
       "      <td>0.1000</td>\n",
       "      <td>0.1010</td>\n",
       "      <td>0.0998</td>\n",
       "      <td>0.1010</td>\n",
       "      <td>0.1010</td>\n",
       "      <td>0.0997</td>\n",
       "      <td>0.1000</td>\n",
       "      <td>0.1010</td>\n",
       "      <td>0.1010</td>\n",
       "      <td>0.1010</td>\n",
       "    </tr>\n",
       "    <tr>\n",
       "      <th>115</th>\n",
       "      <td>0.3</td>\n",
       "      <td>0.1</td>\n",
       "      <td>0.4</td>\n",
       "      <td>0.5</td>\n",
       "      <td>0.6</td>\n",
       "      <td>0.2</td>\n",
       "      <td>0.163</td>\n",
       "      <td>0.166</td>\n",
       "      <td>0.147</td>\n",
       "      <td>0.195</td>\n",
       "      <td>...</td>\n",
       "      <td>0.0757</td>\n",
       "      <td>0.0764</td>\n",
       "      <td>0.0759</td>\n",
       "      <td>0.0763</td>\n",
       "      <td>0.0762</td>\n",
       "      <td>0.0762</td>\n",
       "      <td>0.0762</td>\n",
       "      <td>0.0766</td>\n",
       "      <td>0.0771</td>\n",
       "      <td>0.0768</td>\n",
       "    </tr>\n",
       "    <tr>\n",
       "      <th>221</th>\n",
       "      <td>0.5</td>\n",
       "      <td>0.2</td>\n",
       "      <td>0.1</td>\n",
       "      <td>0.3</td>\n",
       "      <td>0.6</td>\n",
       "      <td>0.4</td>\n",
       "      <td>0.132</td>\n",
       "      <td>0.175</td>\n",
       "      <td>0.156</td>\n",
       "      <td>0.155</td>\n",
       "      <td>...</td>\n",
       "      <td>0.1130</td>\n",
       "      <td>0.1130</td>\n",
       "      <td>0.1130</td>\n",
       "      <td>0.1140</td>\n",
       "      <td>0.1130</td>\n",
       "      <td>0.1120</td>\n",
       "      <td>0.1120</td>\n",
       "      <td>0.1120</td>\n",
       "      <td>0.1130</td>\n",
       "      <td>0.1130</td>\n",
       "    </tr>\n",
       "    <tr>\n",
       "      <th>246</th>\n",
       "      <td>0.6</td>\n",
       "      <td>0.1</td>\n",
       "      <td>0.2</td>\n",
       "      <td>0.5</td>\n",
       "      <td>0.4</td>\n",
       "      <td>0.3</td>\n",
       "      <td>0.128</td>\n",
       "      <td>0.192</td>\n",
       "      <td>0.178</td>\n",
       "      <td>0.175</td>\n",
       "      <td>...</td>\n",
       "      <td>0.1300</td>\n",
       "      <td>0.1300</td>\n",
       "      <td>0.1290</td>\n",
       "      <td>0.1300</td>\n",
       "      <td>0.1300</td>\n",
       "      <td>0.1280</td>\n",
       "      <td>0.1280</td>\n",
       "      <td>0.1290</td>\n",
       "      <td>0.1270</td>\n",
       "      <td>0.1270</td>\n",
       "    </tr>\n",
       "  </tbody>\n",
       "</table>\n",
       "<p>5 rows × 782 columns</p>\n",
       "</div>"
      ],
      "text/plain": [
       "     1disk  2disk  3disk  4disk  5disk  6disk  5.00E+01  5.20E+01  5.40E+01  \\\n",
       "253    0.6    0.1    0.4    0.2    0.3    0.5     0.121     0.161     0.150   \n",
       "98     0.2    0.3    0.4    0.5    0.1    0.6     0.109     0.141     0.123   \n",
       "115    0.3    0.1    0.4    0.5    0.6    0.2     0.163     0.166     0.147   \n",
       "221    0.5    0.2    0.1    0.3    0.6    0.4     0.132     0.175     0.156   \n",
       "246    0.6    0.1    0.2    0.5    0.4    0.3     0.128     0.192     0.178   \n",
       "\n",
       "     5.60E+01  ...  1.58E+03.3  1.58E+03.4  1.59E+03  1.59E+03.1  1.59E+03.2  \\\n",
       "253     0.152  ...      0.1370      0.1370    0.1350      0.1370      0.1380   \n",
       "98      0.117  ...      0.1000      0.1010    0.0998      0.1010      0.1010   \n",
       "115     0.195  ...      0.0757      0.0764    0.0759      0.0763      0.0762   \n",
       "221     0.155  ...      0.1130      0.1130    0.1130      0.1140      0.1130   \n",
       "246     0.175  ...      0.1300      0.1300    0.1290      0.1300      0.1300   \n",
       "\n",
       "     1.59E+03.3  1.59E+03.4  1.60E+03  1.60E+03.1  1.60E+03.2  \n",
       "253      0.1350      0.1340    0.1350      0.1340      0.1330  \n",
       "98       0.0997      0.1000    0.1010      0.1010      0.1010  \n",
       "115      0.0762      0.0762    0.0766      0.0771      0.0768  \n",
       "221      0.1120      0.1120    0.1120      0.1130      0.1130  \n",
       "246      0.1280      0.1280    0.1290      0.1270      0.1270  \n",
       "\n",
       "[5 rows x 782 columns]"
      ]
     },
     "execution_count": 2,
     "metadata": {},
     "output_type": "execute_result"
    }
   ],
   "source": [
    "df=pd.read_csv('6Combinations.csv')\n",
    "df = df.sample(frac = 1) # Shuffle a Dataframe rows\n",
    "df.head()"
   ]
  },
  {
   "cell_type": "code",
   "execution_count": 3,
   "id": "68e187a7",
   "metadata": {},
   "outputs": [],
   "source": [
    "# Specifying the X and Y\n",
    "X_train=df.iloc[:300,:6]\n",
    "Y_train=df.iloc[:300,6:]\n",
    "\n",
    "# Splitting data into 70:30 train:test ratio\n",
    "X_train,X_test,Y_train,Y_test=train_test_split(X_train,Y_train,test_size=0.3,random_state=33)"
   ]
  },
  {
   "cell_type": "code",
   "execution_count": 4,
   "id": "e892bb7a",
   "metadata": {},
   "outputs": [
    {
     "data": {
      "text/plain": [
       "KNeighborsRegressor(n_neighbors=3)"
      ]
     },
     "execution_count": 4,
     "metadata": {},
     "output_type": "execute_result"
    }
   ],
   "source": [
    "knn_model = KNeighborsRegressor(n_neighbors=3)\n",
    "knn_model.fit(X_train, Y_train)"
   ]
  },
  {
   "cell_type": "code",
   "execution_count": 5,
   "id": "2e1c46bf",
   "metadata": {},
   "outputs": [
    {
     "data": {
      "text/plain": [
       "0.08425310032889159"
      ]
     },
     "execution_count": 5,
     "metadata": {},
     "output_type": "execute_result"
    }
   ],
   "source": [
    "train_preds = knn_model.predict(X_train)\n",
    "mse = mean_squared_error(Y_train, train_preds)\n",
    "rmse = sqrt(mse)\n",
    "rmse"
   ]
  },
  {
   "cell_type": "code",
   "execution_count": 6,
   "id": "76b05556",
   "metadata": {},
   "outputs": [
    {
     "data": {
      "text/plain": [
       "0.08425310032889159"
      ]
     },
     "execution_count": 6,
     "metadata": {},
     "output_type": "execute_result"
    }
   ],
   "source": [
    "train_preds = knn_model.predict(X_train)\n",
    "mse = mean_squared_error(Y_train, train_preds)\n",
    "rmse = sqrt(mse)\n",
    "rmse"
   ]
  },
  {
   "cell_type": "code",
   "execution_count": 7,
   "id": "5f3947ee",
   "metadata": {},
   "outputs": [
    {
     "data": {
      "text/plain": [
       "0.11561665082659225"
      ]
     },
     "execution_count": 7,
     "metadata": {},
     "output_type": "execute_result"
    }
   ],
   "source": [
    "test_preds = knn_model.predict(X_test)\n",
    "mse = mean_squared_error(Y_test, test_preds)\n",
    "rmse = sqrt(mse)\n",
    "rmse"
   ]
  },
  {
   "cell_type": "code",
   "execution_count": 8,
   "id": "6e48b9a5",
   "metadata": {},
   "outputs": [
    {
     "data": {
      "text/plain": [
       "GridSearchCV(estimator=KNeighborsRegressor(),\n",
       "             param_grid={'n_neighbors': range(1, 50)})"
      ]
     },
     "execution_count": 8,
     "metadata": {},
     "output_type": "execute_result"
    }
   ],
   "source": [
    "parameters = {\"n_neighbors\": range(1, 50)}\n",
    "gridsearch = GridSearchCV(KNeighborsRegressor(), parameters)\n",
    "gridsearch.fit(X_train, Y_train)"
   ]
  },
  {
   "cell_type": "code",
   "execution_count": 9,
   "id": "4e5555b8",
   "metadata": {},
   "outputs": [
    {
     "data": {
      "text/plain": [
       "{'n_neighbors': 5}"
      ]
     },
     "execution_count": 9,
     "metadata": {},
     "output_type": "execute_result"
    }
   ],
   "source": [
    "gridsearch.best_params_"
   ]
  },
  {
   "cell_type": "code",
   "execution_count": 10,
   "id": "bbfffbc6",
   "metadata": {},
   "outputs": [
    {
     "name": "stdout",
     "output_type": "stream",
     "text": [
      "Train MSE is  0.00946879387571674\n",
      "Train RMSE is  0.0973077277286688\n",
      "Train MAE is  0.06243248637702503\n",
      "Train MAPE is  0.22478316882004695\n",
      "Test MSE is  0.014342428326695302\n",
      "Test RMSE is  0.11975987778340166\n",
      "Tset MAE is  0.07836565950744559\n"
     ]
    }
   ],
   "source": [
    "train_preds_grid = gridsearch.predict(X_train)\n",
    "train_mse = mean_squared_error(Y_train, train_preds_grid)\n",
    "train_rmse = sqrt(train_mse)\n",
    "train_mae = mean_absolute_error(Y_train, train_preds_grid)\n",
    "train_mape = mean_absolute_percentage_error(Y_train, train_preds_grid)\n",
    "\n",
    "test_preds_grid = gridsearch.predict(X_test)\n",
    "test_mse = mean_squared_error(Y_test, test_preds_grid)\n",
    "test_rmse = sqrt(test_mse)\n",
    "test_mae = mean_absolute_error(Y_test, test_preds_grid)\n",
    "print(\"Train MSE is \",train_mse)\n",
    "print(\"Train RMSE is \",train_rmse)\n",
    "print(\"Train MAE is \", train_mae)\n",
    "print(\"Train MAPE is \", train_mape)\n",
    "\n",
    "print(\"Test MSE is \",test_mse)\n",
    "print(\"Test RMSE is \",test_rmse)\n",
    "print(\"Tset MAE is \", test_mae)"
   ]
  },
  {
   "cell_type": "code",
   "execution_count": 11,
   "id": "858c8b15",
   "metadata": {},
   "outputs": [
    {
     "name": "stdout",
     "output_type": "stream",
     "text": [
      "{'n_neighbors': 5, 'weights': 'distance'}\n",
      "Test MSE is  0.013356595051169005\n",
      "Test RMSE is  0.1155707361366579\n",
      "Test MAE is  0.07524648457777294\n",
      "Test MAPE is  0.2870004929937832\n"
     ]
    }
   ],
   "source": [
    "parameters = {\"n_neighbors\": range(1, 50), \"weights\": [\"uniform\", \"distance\"]}\n",
    "gridsearch = GridSearchCV(KNeighborsRegressor(), parameters)\n",
    "gridsearch.fit(X_train, Y_train)\n",
    "GridSearchCV(estimator=KNeighborsRegressor(), param_grid={'n_neighbors': range(1, 50),'weights': ['uniform', 'distance']})\n",
    "print(gridsearch.best_params_)\n",
    "{'n_neighbors': 25, 'weights': 'distance'}\n",
    "\n",
    "test_preds_grid = gridsearch.predict(X_test)\n",
    "test_mse = mean_squared_error(Y_test, test_preds_grid)\n",
    "test_rmse = sqrt(test_mse)\n",
    "test_mae = mean_absolute_error(Y_test, test_preds_grid)\n",
    "test_mape = mean_absolute_percentage_error(Y_test, test_preds_grid)\n",
    "print(\"Test MSE is \", test_mse)\n",
    "print(\"Test RMSE is \", test_rmse)\n",
    "print(\"Test MAE is \", test_mae)\n",
    "print(\"Test MAPE is \", test_mape)"
   ]
  },
  {
   "cell_type": "code",
   "execution_count": 12,
   "id": "4b781837",
   "metadata": {},
   "outputs": [
    {
     "data": {
      "image/png": "[encoded data removed]",
      "text/plain": [
       "<Figure size 432x288 with 1 Axes>"
      ]
     },
     "metadata": {
      "needs_background": "light"
     },
     "output_type": "display_data"
    }
   ],
   "source": [
    "freq_range = range(48,1600,2)\n",
    "\n",
    "plt.plot(freq_range, test_preds_grid[38], \"-\", alpha=14,label=\"Predicted Target\")\n",
    "plt.plot(freq_range, Y_test.iloc[38], \"-\", alpha=14, label=\"True Target\")\n",
    "plt.xlabel(\"Frequency\")\n",
    "plt.ylabel(\"Sound Absorption Coefficient\")\n",
    "plt.legend()\n",
    "plt.title(\"KNN-Tested Graph\")\n",
    "plt.show()"
   ]
  },
  {
   "cell_type": "code",
   "execution_count": 13,
   "id": "81dff70d",
   "metadata": {},
   "outputs": [
    {
     "data": {
      "image/png": "[encoded data removed]",
      "text/plain": [
       "<Figure size 432x288 with 1 Axes>"
      ]
     },
     "metadata": {
      "needs_background": "light"
     },
     "output_type": "display_data"
    }
   ],
   "source": [
    "knn_reg = sns.regplot(x=Y_test.iloc[:,150], y=test_preds_grid[:,150], scatter_kws={\"color\": \"orange\"}, line_kws={\"color\": \"red\"})\n",
    "plt.xlabel(\"Measured Sound Absorption Coefficient\")\n",
    "plt.ylabel(\"Predicted Sound Absoprtion Coefficient\")\n",
    "plt.title(\"KNN at 300Hz\")\n",
    "plt.show()"
   ]
  }
 ],
 "metadata": {
  "kernelspec": {
   "display_name": "Python 3",
   "language": "python",
   "name": "python3"
  },
  "language_info": {
   "codemirror_mode": {
    "name": "ipython",
    "version": 3
   },
   "file_extension": ".py",
   "mimetype": "text/x-python",
   "name": "python",
   "nbconvert_exporter": "python",
   "pygments_lexer": "ipython3",
   "version": "3.8.8"
  }
 },
 "nbformat": 4,
 "nbformat_minor": 5
}
