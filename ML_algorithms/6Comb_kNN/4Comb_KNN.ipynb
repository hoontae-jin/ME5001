{
 "cells": [
  {
   "cell_type": "code",
   "execution_count": 1,
   "id": "3f8c8b42",
   "metadata": {},
   "outputs": [],
   "source": [
    "import numpy as np\n",
    "import pandas as pd\n",
    "import math\n",
    "from sklearn.model_selection import train_test_split\n",
    "import sklearn.neighbors\n",
    "from sklearn.neighbors import KNeighborsRegressor\n",
    "from sklearn import metrics\n",
    "from sklearn.preprocessing import scale\n",
    "from collections import Counter\n",
    "from sklearn.metrics import mean_squared_error\n",
    "from sklearn.metrics import mean_absolute_error\n",
    "from sklearn.metrics import mean_absolute_percentage_error\n",
    "\n",
    "from math import sqrt\n",
    "import seaborn as sns\n",
    "import matplotlib.pyplot as plt\n",
    "from sklearn.model_selection import GridSearchCV"
   ]
  },
  {
   "cell_type": "code",
   "execution_count": 2,
   "id": "a90c3cf2",
   "metadata": {},
   "outputs": [
    {
     "data": {
      "text/html": [
       "<div>\n",
       "<style scoped>\n",
       "    .dataframe tbody tr th:only-of-type {\n",
       "        vertical-align: middle;\n",
       "    }\n",
       "\n",
       "    .dataframe tbody tr th {\n",
       "        vertical-align: top;\n",
       "    }\n",
       "\n",
       "    .dataframe thead th {\n",
       "        text-align: right;\n",
       "    }\n",
       "</style>\n",
       "<table border=\"1\" class=\"dataframe\">\n",
       "  <thead>\n",
       "    <tr style=\"text-align: right;\">\n",
       "      <th></th>\n",
       "      <th>FirstDisk</th>\n",
       "      <th>SecondDisk</th>\n",
       "      <th>ThirdDisk</th>\n",
       "      <th>FourthDisk</th>\n",
       "      <th>FirstRing</th>\n",
       "      <th>SecondRing</th>\n",
       "      <th>ThirdRing</th>\n",
       "      <th>5.00E+01</th>\n",
       "      <th>5.20E+01</th>\n",
       "      <th>5.40E+01</th>\n",
       "      <th>...</th>\n",
       "      <th>1.58E+03.3</th>\n",
       "      <th>1.58E+03.4</th>\n",
       "      <th>1.59E+03</th>\n",
       "      <th>1.59E+03.1</th>\n",
       "      <th>1.59E+03.2</th>\n",
       "      <th>1.59E+03.3</th>\n",
       "      <th>1.59E+03.4</th>\n",
       "      <th>1.60E+03</th>\n",
       "      <th>1.60E+03.1</th>\n",
       "      <th>1.60E+03.2</th>\n",
       "    </tr>\n",
       "  </thead>\n",
       "  <tbody>\n",
       "    <tr>\n",
       "      <th>53</th>\n",
       "      <td>4</td>\n",
       "      <td>2</td>\n",
       "      <td>1</td>\n",
       "      <td>3</td>\n",
       "      <td>25</td>\n",
       "      <td>25</td>\n",
       "      <td>25</td>\n",
       "      <td>0.04940</td>\n",
       "      <td>0.0721</td>\n",
       "      <td>0.05210</td>\n",
       "      <td>...</td>\n",
       "      <td>0.1290</td>\n",
       "      <td>0.1280</td>\n",
       "      <td>0.1270</td>\n",
       "      <td>0.1290</td>\n",
       "      <td>0.129</td>\n",
       "      <td>0.1260</td>\n",
       "      <td>0.126</td>\n",
       "      <td>0.1260</td>\n",
       "      <td>0.1250</td>\n",
       "      <td>0.1250</td>\n",
       "    </tr>\n",
       "    <tr>\n",
       "      <th>20</th>\n",
       "      <td>4</td>\n",
       "      <td>3</td>\n",
       "      <td>2</td>\n",
       "      <td>1</td>\n",
       "      <td>10</td>\n",
       "      <td>10</td>\n",
       "      <td>10</td>\n",
       "      <td>0.02630</td>\n",
       "      <td>0.0320</td>\n",
       "      <td>0.00536</td>\n",
       "      <td>...</td>\n",
       "      <td>0.2000</td>\n",
       "      <td>0.2000</td>\n",
       "      <td>0.2000</td>\n",
       "      <td>0.2010</td>\n",
       "      <td>0.202</td>\n",
       "      <td>0.2010</td>\n",
       "      <td>0.201</td>\n",
       "      <td>0.2020</td>\n",
       "      <td>0.2020</td>\n",
       "      <td>0.2030</td>\n",
       "    </tr>\n",
       "    <tr>\n",
       "      <th>13</th>\n",
       "      <td>3</td>\n",
       "      <td>1</td>\n",
       "      <td>4</td>\n",
       "      <td>2</td>\n",
       "      <td>10</td>\n",
       "      <td>10</td>\n",
       "      <td>10</td>\n",
       "      <td>0.01500</td>\n",
       "      <td>0.0479</td>\n",
       "      <td>0.03270</td>\n",
       "      <td>...</td>\n",
       "      <td>0.0911</td>\n",
       "      <td>0.0906</td>\n",
       "      <td>0.0903</td>\n",
       "      <td>0.0914</td>\n",
       "      <td>0.092</td>\n",
       "      <td>0.0906</td>\n",
       "      <td>0.091</td>\n",
       "      <td>0.0915</td>\n",
       "      <td>0.0916</td>\n",
       "      <td>0.0917</td>\n",
       "    </tr>\n",
       "    <tr>\n",
       "      <th>11</th>\n",
       "      <td>2</td>\n",
       "      <td>4</td>\n",
       "      <td>3</td>\n",
       "      <td>1</td>\n",
       "      <td>10</td>\n",
       "      <td>10</td>\n",
       "      <td>10</td>\n",
       "      <td>0.00169</td>\n",
       "      <td>0.0232</td>\n",
       "      <td>0.03160</td>\n",
       "      <td>...</td>\n",
       "      <td>0.2010</td>\n",
       "      <td>0.1990</td>\n",
       "      <td>0.1960</td>\n",
       "      <td>0.1950</td>\n",
       "      <td>0.193</td>\n",
       "      <td>0.1900</td>\n",
       "      <td>0.187</td>\n",
       "      <td>0.1860</td>\n",
       "      <td>0.1840</td>\n",
       "      <td>0.1830</td>\n",
       "    </tr>\n",
       "    <tr>\n",
       "      <th>34</th>\n",
       "      <td>4</td>\n",
       "      <td>1</td>\n",
       "      <td>3</td>\n",
       "      <td>2</td>\n",
       "      <td>15</td>\n",
       "      <td>15</td>\n",
       "      <td>15</td>\n",
       "      <td>0.03070</td>\n",
       "      <td>0.0541</td>\n",
       "      <td>0.03780</td>\n",
       "      <td>...</td>\n",
       "      <td>0.2530</td>\n",
       "      <td>0.2500</td>\n",
       "      <td>0.2480</td>\n",
       "      <td>0.2480</td>\n",
       "      <td>0.247</td>\n",
       "      <td>0.2450</td>\n",
       "      <td>0.245</td>\n",
       "      <td>0.2440</td>\n",
       "      <td>0.2420</td>\n",
       "      <td>0.2400</td>\n",
       "    </tr>\n",
       "  </tbody>\n",
       "</table>\n",
       "<p>5 rows × 783 columns</p>\n",
       "</div>"
      ],
      "text/plain": [
       "    FirstDisk  SecondDisk  ThirdDisk  FourthDisk  FirstRing  SecondRing  \\\n",
       "53          4           2          1           3         25          25   \n",
       "20          4           3          2           1         10          10   \n",
       "13          3           1          4           2         10          10   \n",
       "11          2           4          3           1         10          10   \n",
       "34          4           1          3           2         15          15   \n",
       "\n",
       "    ThirdRing  5.00E+01  5.20E+01  5.40E+01  ...  1.58E+03.3  1.58E+03.4  \\\n",
       "53         25   0.04940    0.0721   0.05210  ...      0.1290      0.1280   \n",
       "20         10   0.02630    0.0320   0.00536  ...      0.2000      0.2000   \n",
       "13         10   0.01500    0.0479   0.03270  ...      0.0911      0.0906   \n",
       "11         10   0.00169    0.0232   0.03160  ...      0.2010      0.1990   \n",
       "34         15   0.03070    0.0541   0.03780  ...      0.2530      0.2500   \n",
       "\n",
       "    1.59E+03  1.59E+03.1  1.59E+03.2  1.59E+03.3  1.59E+03.4  1.60E+03  \\\n",
       "53    0.1270      0.1290       0.129      0.1260       0.126    0.1260   \n",
       "20    0.2000      0.2010       0.202      0.2010       0.201    0.2020   \n",
       "13    0.0903      0.0914       0.092      0.0906       0.091    0.0915   \n",
       "11    0.1960      0.1950       0.193      0.1900       0.187    0.1860   \n",
       "34    0.2480      0.2480       0.247      0.2450       0.245    0.2440   \n",
       "\n",
       "    1.60E+03.1  1.60E+03.2  \n",
       "53      0.1250      0.1250  \n",
       "20      0.2020      0.2030  \n",
       "13      0.0916      0.0917  \n",
       "11      0.1840      0.1830  \n",
       "34      0.2420      0.2400  \n",
       "\n",
       "[5 rows x 783 columns]"
      ]
     },
     "execution_count": 2,
     "metadata": {},
     "output_type": "execute_result"
    }
   ],
   "source": [
    "df=pd.read_csv('4Combinations.csv')\n",
    "df = df.sample(frac = 1) # Shuffle a Dataframe rows\n",
    "df.head()"
   ]
  },
  {
   "cell_type": "code",
   "execution_count": 3,
   "id": "68e187a7",
   "metadata": {},
   "outputs": [],
   "source": [
    "# Specifying the X and Y\n",
    "X_train=df.iloc[:,:7]\n",
    "Y_train=df.iloc[:,7:]\n",
    "\n",
    "# Splitting data into 70:30 train:test ratio\n",
    "X_train,X_test,Y_train,Y_test=train_test_split(X_train,Y_train,test_size=0.3,random_state=33)"
   ]
  },
  {
   "cell_type": "code",
   "execution_count": 4,
   "id": "e892bb7a",
   "metadata": {},
   "outputs": [
    {
     "data": {
      "text/plain": [
       "KNeighborsRegressor(n_neighbors=3)"
      ]
     },
     "execution_count": 4,
     "metadata": {},
     "output_type": "execute_result"
    }
   ],
   "source": [
    "knn_model = KNeighborsRegressor(n_neighbors=3)\n",
    "knn_model.fit(X_train, Y_train)"
   ]
  },
  {
   "cell_type": "code",
   "execution_count": 5,
   "id": "2e1c46bf",
   "metadata": {},
   "outputs": [
    {
     "data": {
      "text/plain": [
       "0.16204096984466862"
      ]
     },
     "execution_count": 5,
     "metadata": {},
     "output_type": "execute_result"
    }
   ],
   "source": [
    "train_preds = knn_model.predict(X_train)\n",
    "mse = mean_squared_error(Y_train, train_preds)\n",
    "rmse = sqrt(mse)\n",
    "rmse"
   ]
  },
  {
   "cell_type": "code",
   "execution_count": 6,
   "id": "76b05556",
   "metadata": {},
   "outputs": [
    {
     "data": {
      "text/plain": [
       "0.16204096984466862"
      ]
     },
     "execution_count": 6,
     "metadata": {},
     "output_type": "execute_result"
    }
   ],
   "source": [
    "train_preds = knn_model.predict(X_train)\n",
    "mse = mean_squared_error(Y_train, train_preds)\n",
    "rmse = sqrt(mse)\n",
    "rmse"
   ]
  },
  {
   "cell_type": "code",
   "execution_count": 7,
   "id": "5f3947ee",
   "metadata": {},
   "outputs": [
    {
     "data": {
      "text/plain": [
       "0.21966591346594197"
      ]
     },
     "execution_count": 7,
     "metadata": {},
     "output_type": "execute_result"
    }
   ],
   "source": [
    "test_preds = knn_model.predict(X_test)\n",
    "mse = mean_squared_error(Y_test, test_preds)\n",
    "rmse = sqrt(mse)\n",
    "rmse"
   ]
  },
  {
   "cell_type": "code",
   "execution_count": 17,
   "id": "6e48b9a5",
   "metadata": {},
   "outputs": [
    {
     "data": {
      "text/plain": [
       "GridSearchCV(estimator=KNeighborsRegressor(),\n",
       "             param_grid={'n_neighbors': range(1, 5)})"
      ]
     },
     "execution_count": 17,
     "metadata": {},
     "output_type": "execute_result"
    }
   ],
   "source": [
    "parameters = {\"n_neighbors\": range(1, 5)}\n",
    "gridsearch = GridSearchCV(KNeighborsRegressor(), parameters)\n",
    "gridsearch.fit(X_train, Y_train)"
   ]
  },
  {
   "cell_type": "code",
   "execution_count": 18,
   "id": "4e5555b8",
   "metadata": {},
   "outputs": [
    {
     "data": {
      "text/plain": [
       "{'n_neighbors': 4}"
      ]
     },
     "execution_count": 18,
     "metadata": {},
     "output_type": "execute_result"
    }
   ],
   "source": [
    "gridsearch.best_params_"
   ]
  },
  {
   "cell_type": "code",
   "execution_count": 19,
   "id": "bbfffbc6",
   "metadata": {},
   "outputs": [
    {
     "name": "stdout",
     "output_type": "stream",
     "text": [
      "Train MSE is  0.02888901887041146\n",
      "Train RMSE is  0.16996769949143709\n",
      "Train MAE is  0.12312705757665873\n",
      "Test MSE is  0.04833545098834546\n",
      "Test RMSE is  0.21985324875549478\n",
      "Tset MAE is  0.15974565358319015\n"
     ]
    }
   ],
   "source": [
    "train_preds_grid = gridsearch.predict(X_train)\n",
    "train_mse = mean_squared_error(Y_train, train_preds_grid)\n",
    "train_rmse = sqrt(train_mse)\n",
    "train_mae = mean_absolute_error(Y_train, train_preds_grid)\n",
    "\n",
    "test_preds_grid = gridsearch.predict(X_test)\n",
    "test_mse = mean_squared_error(Y_test, test_preds_grid)\n",
    "test_rmse = sqrt(test_mse)\n",
    "test_mae = mean_absolute_error(Y_test, test_preds_grid)\n",
    "print(\"Train MSE is \",train_mse)\n",
    "print(\"Train RMSE is \",train_rmse)\n",
    "print(\"Train MAE is \", train_mae)\n",
    "\n",
    "print(\"Test MSE is \",test_mse)\n",
    "print(\"Test RMSE is \",test_rmse)\n",
    "print(\"Tset MAE is \", test_mae)"
   ]
  },
  {
   "cell_type": "code",
   "execution_count": 21,
   "id": "858c8b15",
   "metadata": {},
   "outputs": [
    {
     "name": "stdout",
     "output_type": "stream",
     "text": [
      "{'n_neighbors': 4, 'weights': 'distance'}\n",
      "Test MSE is  0.04564912629263401\n",
      "Test RMSE is  0.2136565615482801\n",
      "Test MAE is  0.15356396736998054\n",
      "Test MAPE is  0.6265519306232907\n"
     ]
    }
   ],
   "source": [
    "parameters = {\"n_neighbors\": range(1, 5), \"weights\": [\"uniform\", \"distance\"]}\n",
    "gridsearch = GridSearchCV(KNeighborsRegressor(), parameters)\n",
    "gridsearch.fit(X_train, Y_train)\n",
    "GridSearchCV(estimator=KNeighborsRegressor(), param_grid={'n_neighbors': range(1, 5),'weights': ['uniform', 'distance']})\n",
    "print(gridsearch.best_params_)\n",
    "{'n_neighbors': 25, 'weights': 'distance'}\n",
    "\n",
    "test_preds_grid = gridsearch.predict(X_test)\n",
    "test_mse = mean_squared_error(Y_test, test_preds_grid)\n",
    "test_rmse = sqrt(test_mse)\n",
    "test_mae = mean_absolute_error(Y_test, test_preds_grid)\n",
    "test_mape = mean_absolute_percentage_error(Y_test, test_preds_grid)\n",
    "print(\"Test MSE is \", test_mse)\n",
    "print(\"Test RMSE is \", test_rmse)\n",
    "print(\"Test MAE is \", test_mae)\n",
    "print(\"Test MAPE is \", test_mape)"
   ]
  },
  {
   "cell_type": "code",
   "execution_count": 22,
   "id": "4b781837",
   "metadata": {},
   "outputs": [
    {
     "data": {
      "image/png": "[encoded data removed]",
      "text/plain": [
       "<Figure size 432x288 with 1 Axes>"
      ]
     },
     "metadata": {
      "needs_background": "light"
     },
     "output_type": "display_data"
    }
   ],
   "source": [
    "freq_range = range(48,1600,2)\n",
    "\n",
    "plt.plot(freq_range, test_preds_grid[1], \"-\", alpha=14,label=\"Predicted Target\")\n",
    "plt.plot(freq_range, Y_test.iloc[1], \"-\", alpha=14, label=\"True Target\")\n",
    "plt.xlabel(\"Frequency\")\n",
    "plt.ylabel(\"Sound Absorption Coefficient\")\n",
    "plt.legend()\n",
    "plt.title(\"KNN-Tested Graph\")\n",
    "plt.show()"
   ]
  },
  {
   "cell_type": "code",
   "execution_count": 23,
   "id": "81dff70d",
   "metadata": {},
   "outputs": [
    {
     "data": {
      "image/png": "[encoded data removed]",
      "text/plain": [
       "<Figure size 432x288 with 1 Axes>"
      ]
     },
     "metadata": {
      "needs_background": "light"
     },
     "output_type": "display_data"
    }
   ],
   "source": [
    "knn_reg = sns.regplot(x=Y_test.iloc[:,150], y=test_preds_grid[:,150], scatter_kws={\"color\": \"orange\"}, line_kws={\"color\": \"red\"})\n",
    "plt.xlabel(\"Measured Sound Absorption Coefficient\")\n",
    "plt.ylabel(\"Predicted Sound Absoprtion Coefficient\")\n",
    "plt.title(\"KNN at 300Hz\")\n",
    "plt.show()"
   ]
  },
  {
   "cell_type": "code",
   "execution_count": 24,
   "id": "125534ee",
   "metadata": {},
   "outputs": [
    {
     "data": {
      "text/plain": [
       "57"
      ]
     },
     "execution_count": 24,
     "metadata": {},
     "output_type": "execute_result"
    }
   ],
   "source": []
  },
  {
   "cell_type": "code",
   "execution_count": null,
   "id": "26704d2b",
   "metadata": {},
   "outputs": [],
   "source": []
  }
 ],
 "metadata": {
  "kernelspec": {
   "display_name": "Python 3",
   "language": "python",
   "name": "python3"
  },
  "language_info": {
   "codemirror_mode": {
    "name": "ipython",
    "version": 3
   },
   "file_extension": ".py",
   "mimetype": "text/x-python",
   "name": "python",
   "nbconvert_exporter": "python",
   "pygments_lexer": "ipython3",
   "version": "3.8.8"
  }
 },
 "nbformat": 4,
 "nbformat_minor": 5
}
