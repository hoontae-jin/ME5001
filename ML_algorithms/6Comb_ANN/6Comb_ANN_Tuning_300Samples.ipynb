{
 "cells": [
  {
   "cell_type": "code",
   "execution_count": 1,
   "id": "03cd2508",
   "metadata": {},
   "outputs": [],
   "source": [
    "import pandas as pd\n",
    "import warnings\n",
    "warnings.filterwarnings('ignore')"
   ]
  },
  {
   "cell_type": "code",
   "execution_count": 2,
   "id": "7962d918",
   "metadata": {},
   "outputs": [
    {
     "data": {
      "text/html": [
       "<div>\n",
       "<style scoped>\n",
       "    .dataframe tbody tr th:only-of-type {\n",
       "        vertical-align: middle;\n",
       "    }\n",
       "\n",
       "    .dataframe tbody tr th {\n",
       "        vertical-align: top;\n",
       "    }\n",
       "\n",
       "    .dataframe thead th {\n",
       "        text-align: right;\n",
       "    }\n",
       "</style>\n",
       "<table border=\"1\" class=\"dataframe\">\n",
       "  <thead>\n",
       "    <tr style=\"text-align: right;\">\n",
       "      <th></th>\n",
       "      <th>1disk</th>\n",
       "      <th>2disk</th>\n",
       "      <th>3disk</th>\n",
       "      <th>4disk</th>\n",
       "      <th>5disk</th>\n",
       "      <th>6disk</th>\n",
       "      <th>5.00E+01</th>\n",
       "      <th>5.20E+01</th>\n",
       "      <th>5.40E+01</th>\n",
       "      <th>5.60E+01</th>\n",
       "      <th>...</th>\n",
       "      <th>1.58E+03.3</th>\n",
       "      <th>1.58E+03.4</th>\n",
       "      <th>1.59E+03</th>\n",
       "      <th>1.59E+03.1</th>\n",
       "      <th>1.59E+03.2</th>\n",
       "      <th>1.59E+03.3</th>\n",
       "      <th>1.59E+03.4</th>\n",
       "      <th>1.60E+03</th>\n",
       "      <th>1.60E+03.1</th>\n",
       "      <th>1.60E+03.2</th>\n",
       "    </tr>\n",
       "  </thead>\n",
       "  <tbody>\n",
       "    <tr>\n",
       "      <th>29</th>\n",
       "      <td>0.1</td>\n",
       "      <td>0.3</td>\n",
       "      <td>0.2</td>\n",
       "      <td>0.6</td>\n",
       "      <td>0.5</td>\n",
       "      <td>0.4</td>\n",
       "      <td>0.145</td>\n",
       "      <td>0.173</td>\n",
       "      <td>0.162</td>\n",
       "      <td>0.172</td>\n",
       "      <td>...</td>\n",
       "      <td>0.1180</td>\n",
       "      <td>0.1180</td>\n",
       "      <td>0.1180</td>\n",
       "      <td>0.1190</td>\n",
       "      <td>0.1190</td>\n",
       "      <td>0.1190</td>\n",
       "      <td>0.1200</td>\n",
       "      <td>0.1210</td>\n",
       "      <td>0.1210</td>\n",
       "      <td>0.1200</td>\n",
       "    </tr>\n",
       "    <tr>\n",
       "      <th>86</th>\n",
       "      <td>0.2</td>\n",
       "      <td>0.1</td>\n",
       "      <td>0.6</td>\n",
       "      <td>0.4</td>\n",
       "      <td>0.3</td>\n",
       "      <td>0.5</td>\n",
       "      <td>0.150</td>\n",
       "      <td>0.191</td>\n",
       "      <td>0.185</td>\n",
       "      <td>0.188</td>\n",
       "      <td>...</td>\n",
       "      <td>0.1100</td>\n",
       "      <td>0.1110</td>\n",
       "      <td>0.1100</td>\n",
       "      <td>0.1110</td>\n",
       "      <td>0.1110</td>\n",
       "      <td>0.1100</td>\n",
       "      <td>0.1100</td>\n",
       "      <td>0.1110</td>\n",
       "      <td>0.1110</td>\n",
       "      <td>0.1110</td>\n",
       "    </tr>\n",
       "    <tr>\n",
       "      <th>161</th>\n",
       "      <td>0.4</td>\n",
       "      <td>0.1</td>\n",
       "      <td>0.3</td>\n",
       "      <td>0.6</td>\n",
       "      <td>0.2</td>\n",
       "      <td>0.5</td>\n",
       "      <td>0.146</td>\n",
       "      <td>0.156</td>\n",
       "      <td>0.147</td>\n",
       "      <td>0.176</td>\n",
       "      <td>...</td>\n",
       "      <td>0.0903</td>\n",
       "      <td>0.0899</td>\n",
       "      <td>0.0887</td>\n",
       "      <td>0.0902</td>\n",
       "      <td>0.0902</td>\n",
       "      <td>0.0911</td>\n",
       "      <td>0.0897</td>\n",
       "      <td>0.0892</td>\n",
       "      <td>0.0898</td>\n",
       "      <td>0.0896</td>\n",
       "    </tr>\n",
       "    <tr>\n",
       "      <th>170</th>\n",
       "      <td>0.4</td>\n",
       "      <td>0.1</td>\n",
       "      <td>0.6</td>\n",
       "      <td>0.2</td>\n",
       "      <td>0.5</td>\n",
       "      <td>0.3</td>\n",
       "      <td>0.130</td>\n",
       "      <td>0.169</td>\n",
       "      <td>0.159</td>\n",
       "      <td>0.153</td>\n",
       "      <td>...</td>\n",
       "      <td>0.1000</td>\n",
       "      <td>0.0976</td>\n",
       "      <td>0.0964</td>\n",
       "      <td>0.0989</td>\n",
       "      <td>0.1000</td>\n",
       "      <td>0.0993</td>\n",
       "      <td>0.0990</td>\n",
       "      <td>0.0984</td>\n",
       "      <td>0.0982</td>\n",
       "      <td>0.0990</td>\n",
       "    </tr>\n",
       "    <tr>\n",
       "      <th>52</th>\n",
       "      <td>0.1</td>\n",
       "      <td>0.4</td>\n",
       "      <td>0.2</td>\n",
       "      <td>0.6</td>\n",
       "      <td>0.3</td>\n",
       "      <td>0.5</td>\n",
       "      <td>0.153</td>\n",
       "      <td>0.183</td>\n",
       "      <td>0.174</td>\n",
       "      <td>0.189</td>\n",
       "      <td>...</td>\n",
       "      <td>0.0832</td>\n",
       "      <td>0.0835</td>\n",
       "      <td>0.0830</td>\n",
       "      <td>0.0834</td>\n",
       "      <td>0.0831</td>\n",
       "      <td>0.0832</td>\n",
       "      <td>0.0832</td>\n",
       "      <td>0.0841</td>\n",
       "      <td>0.0841</td>\n",
       "      <td>0.0834</td>\n",
       "    </tr>\n",
       "  </tbody>\n",
       "</table>\n",
       "<p>5 rows × 782 columns</p>\n",
       "</div>"
      ],
      "text/plain": [
       "     1disk  2disk  3disk  4disk  5disk  6disk  5.00E+01  5.20E+01  5.40E+01  \\\n",
       "29     0.1    0.3    0.2    0.6    0.5    0.4     0.145     0.173     0.162   \n",
       "86     0.2    0.1    0.6    0.4    0.3    0.5     0.150     0.191     0.185   \n",
       "161    0.4    0.1    0.3    0.6    0.2    0.5     0.146     0.156     0.147   \n",
       "170    0.4    0.1    0.6    0.2    0.5    0.3     0.130     0.169     0.159   \n",
       "52     0.1    0.4    0.2    0.6    0.3    0.5     0.153     0.183     0.174   \n",
       "\n",
       "     5.60E+01  ...  1.58E+03.3  1.58E+03.4  1.59E+03  1.59E+03.1  1.59E+03.2  \\\n",
       "29      0.172  ...      0.1180      0.1180    0.1180      0.1190      0.1190   \n",
       "86      0.188  ...      0.1100      0.1110    0.1100      0.1110      0.1110   \n",
       "161     0.176  ...      0.0903      0.0899    0.0887      0.0902      0.0902   \n",
       "170     0.153  ...      0.1000      0.0976    0.0964      0.0989      0.1000   \n",
       "52      0.189  ...      0.0832      0.0835    0.0830      0.0834      0.0831   \n",
       "\n",
       "     1.59E+03.3  1.59E+03.4  1.60E+03  1.60E+03.1  1.60E+03.2  \n",
       "29       0.1190      0.1200    0.1210      0.1210      0.1200  \n",
       "86       0.1100      0.1100    0.1110      0.1110      0.1110  \n",
       "161      0.0911      0.0897    0.0892      0.0898      0.0896  \n",
       "170      0.0993      0.0990    0.0984      0.0982      0.0990  \n",
       "52       0.0832      0.0832    0.0841      0.0841      0.0834  \n",
       "\n",
       "[5 rows x 782 columns]"
      ]
     },
     "execution_count": 2,
     "metadata": {},
     "output_type": "execute_result"
    }
   ],
   "source": [
    "df = pd.read_csv('6Combinations.csv')\n",
    "df = df.sample(frac = 1) # Shuffle a Dataframe rows\n",
    "df.head()"
   ]
  },
  {
   "cell_type": "code",
   "execution_count": 3,
   "id": "ff07358e",
   "metadata": {},
   "outputs": [
    {
     "name": "stdout",
     "output_type": "stream",
     "text": [
      "<class 'pandas.core.frame.DataFrame'>\n",
      "Int64Index: 400 entries, 29 to 150\n",
      "Columns: 782 entries, 1disk to 1.60E+03.2\n",
      "dtypes: float64(782)\n",
      "memory usage: 2.4 MB\n"
     ]
    }
   ],
   "source": [
    "df.info()"
   ]
  },
  {
   "cell_type": "code",
   "execution_count": 4,
   "id": "41197411",
   "metadata": {},
   "outputs": [],
   "source": [
    "dependent_variable = df.iloc[:300,:6]\n",
    "independent_variables = df.iloc[:300,6:]"
   ]
  },
  {
   "cell_type": "code",
   "execution_count": 5,
   "id": "bdff7629",
   "metadata": {},
   "outputs": [],
   "source": [
    "from sklearn.model_selection import train_test_split\n",
    "# Splitting data into 70:30 train:test ratio\n",
    "X_train,X_test,Y_train,Y_test=train_test_split(independent_variables, dependent_variable, test_size=0.3)"
   ]
  },
  {
   "cell_type": "code",
   "execution_count": 6,
   "id": "1fee1e69",
   "metadata": {},
   "outputs": [
    {
     "data": {
      "text/plain": [
       "'from sklearn.preprocessing import StandardScaler\\nscaler = StandardScaler()\\nscaler.fit(X_train)\\n\\nX_train = scaler.transform(X_train)\\nX_test = scaler.transform(X_test)'"
      ]
     },
     "execution_count": 6,
     "metadata": {},
     "output_type": "execute_result"
    }
   ],
   "source": [
    "'''from sklearn.preprocessing import StandardScaler\n",
    "scaler = StandardScaler()\n",
    "scaler.fit(X_train)\n",
    "\n",
    "X_train = scaler.transform(X_train)\n",
    "X_test = scaler.transform(X_test)'''"
   ]
  },
  {
   "cell_type": "code",
   "execution_count": 7,
   "id": "eeffc335",
   "metadata": {},
   "outputs": [
    {
     "data": {
      "text/plain": [
       "MLPRegressor()"
      ]
     },
     "execution_count": 7,
     "metadata": {},
     "output_type": "execute_result"
    }
   ],
   "source": [
    "from sklearn.neural_network import MLPRegressor\n",
    "mlp = MLPRegressor()\n",
    "mlp.fit(X_train, Y_train)"
   ]
  },
  {
   "cell_type": "code",
   "execution_count": 8,
   "id": "14692c9a",
   "metadata": {},
   "outputs": [],
   "source": [
    "predictions = mlp.predict(X_test)"
   ]
  },
  {
   "cell_type": "code",
   "execution_count": 9,
   "id": "d0eccdcd",
   "metadata": {},
   "outputs": [
    {
     "name": "stdout",
     "output_type": "stream",
     "text": [
      "Evaluating the results for test data\n",
      "MSE :  0.014723148333991598\n",
      "RMSE :  0.12133898109837414\n",
      "MAE :  0.09425833760242897\n"
     ]
    }
   ],
   "source": [
    "# Evaluate the results for test dataset\n",
    "from sklearn.metrics import mean_squared_error, mean_absolute_error\n",
    "from math import sqrt\n",
    "print('Evaluating the results for test data')\n",
    "print('MSE : ', mean_squared_error(Y_test, predictions))\n",
    "print('RMSE : ', sqrt(mean_squared_error(Y_test, predictions)))\n",
    "print('MAE : ', mean_absolute_error(Y_test, predictions))"
   ]
  },
  {
   "cell_type": "code",
   "execution_count": 10,
   "id": "0cb25203",
   "metadata": {},
   "outputs": [
    {
     "name": "stdout",
     "output_type": "stream",
     "text": [
      "Evaluating the results for train data\n",
      "MSE :  0.012618278611057963\n",
      "RMSE :  0.11233111150103503\n",
      "MAE :  0.08654126517949184\n"
     ]
    }
   ],
   "source": [
    "# Evaludate the results for train dataset\n",
    "print('Evaluating the results for train data')\n",
    "print('MSE : ', mean_squared_error(Y_train, mlp.predict(X_train)))\n",
    "print('RMSE : ', sqrt(mean_squared_error(Y_train, mlp.predict(X_train))))\n",
    "print('MAE : ', mean_absolute_error(Y_train, mlp.predict(X_train)))"
   ]
  },
  {
   "cell_type": "code",
   "execution_count": 11,
   "id": "20e88171",
   "metadata": {},
   "outputs": [],
   "source": [
    "from sklearn.model_selection import GridSearchCV\n",
    "mlp = MLPRegressor() \n",
    "grid_values = {'max_iter':[300, 400, 500, 600, 700, 800, 900, 1000, 1100, 1200, 1300, 1400, 1500],\n",
    "              'hidden_layer_sizes':[(400,300), (400,400),(500,400),(500,500)],\n",
    "              'learning_rate_init':[0.001],\n",
    "              'batch_size':[30]}\n",
    "grid_mlp = GridSearchCV(mlp, param_grid = grid_values, cv=3)"
   ]
  },
  {
   "cell_type": "code",
   "execution_count": 12,
   "id": "595205d0",
   "metadata": {},
   "outputs": [
    {
     "data": {
      "text/plain": [
       "GridSearchCV(cv=3, estimator=MLPRegressor(),\n",
       "             param_grid={'batch_size': [30],\n",
       "                         'hidden_layer_sizes': [(400, 300), (400, 400),\n",
       "                                                (500, 400), (500, 500)],\n",
       "                         'learning_rate_init': [0.001],\n",
       "                         'max_iter': [300, 400, 500, 600, 700, 800, 900, 1000,\n",
       "                                      1100, 1200, 1300, 1400, 1500]})"
      ]
     },
     "execution_count": 12,
     "metadata": {},
     "output_type": "execute_result"
    }
   ],
   "source": [
    "grid_mlp.fit(X_train, Y_train)"
   ]
  },
  {
   "cell_type": "code",
   "execution_count": 13,
   "id": "94e73331",
   "metadata": {},
   "outputs": [
    {
     "data": {
      "text/plain": [
       "{'batch_size': 30,\n",
       " 'hidden_layer_sizes': (500, 500),\n",
       " 'learning_rate_init': 0.001,\n",
       " 'max_iter': 800}"
      ]
     },
     "execution_count": 13,
     "metadata": {},
     "output_type": "execute_result"
    }
   ],
   "source": [
    "grid_mlp.best_params_"
   ]
  },
  {
   "cell_type": "code",
   "execution_count": 14,
   "id": "15d695a0",
   "metadata": {},
   "outputs": [
    {
     "name": "stdout",
     "output_type": "stream",
     "text": [
      "Evaluating the results for test data\n",
      "MSE :  0.009403325029275725\n",
      "RMSE :  0.09697074316140784\n",
      "MAE :  0.06547779835444721\n"
     ]
    }
   ],
   "source": [
    "# Predict values based on new parameters\n",
    "Y_test_pred = grid_mlp.predict(X_test)\n",
    "print('Evaluating the results for test data')\n",
    "print('MSE : ', mean_squared_error(Y_test, Y_test_pred))\n",
    "print('RMSE : ', sqrt(mean_squared_error(Y_test, Y_test_pred)))\n",
    "print('MAE : ', mean_absolute_error(Y_test, Y_test_pred))"
   ]
  },
  {
   "cell_type": "code",
   "execution_count": 15,
   "id": "d96c9131",
   "metadata": {},
   "outputs": [
    {
     "data": {
      "text/plain": [
       "dict_keys(['activation', 'alpha', 'batch_size', 'beta_1', 'beta_2', 'early_stopping', 'epsilon', 'hidden_layer_sizes', 'learning_rate', 'learning_rate_init', 'max_fun', 'max_iter', 'momentum', 'n_iter_no_change', 'nesterovs_momentum', 'power_t', 'random_state', 'shuffle', 'solver', 'tol', 'validation_fraction', 'verbose', 'warm_start'])"
      ]
     },
     "execution_count": 15,
     "metadata": {},
     "output_type": "execute_result"
    }
   ],
   "source": [
    "mlp.get_params().keys()"
   ]
  },
  {
   "cell_type": "code",
   "execution_count": null,
   "id": "6ca71f08",
   "metadata": {},
   "outputs": [],
   "source": []
  }
 ],
 "metadata": {
  "kernelspec": {
   "display_name": "Python 3",
   "language": "python",
   "name": "python3"
  },
  "language_info": {
   "codemirror_mode": {
    "name": "ipython",
    "version": 3
   },
   "file_extension": ".py",
   "mimetype": "text/x-python",
   "name": "python",
   "nbconvert_exporter": "python",
   "pygments_lexer": "ipython3",
   "version": "3.8.8"
  }
 },
 "nbformat": 4,
 "nbformat_minor": 5
}
