{
 "cells": [
  {
   "cell_type": "code",
   "execution_count": 1,
   "id": "03cd2508",
   "metadata": {},
   "outputs": [],
   "source": [
    "import pandas as pd\n",
    "import warnings\n",
    "warnings.filterwarnings('ignore')"
   ]
  },
  {
   "cell_type": "code",
   "execution_count": 2,
   "id": "7962d918",
   "metadata": {},
   "outputs": [
    {
     "data": {
      "text/html": [
       "<div>\n",
       "<style scoped>\n",
       "    .dataframe tbody tr th:only-of-type {\n",
       "        vertical-align: middle;\n",
       "    }\n",
       "\n",
       "    .dataframe tbody tr th {\n",
       "        vertical-align: top;\n",
       "    }\n",
       "\n",
       "    .dataframe thead th {\n",
       "        text-align: right;\n",
       "    }\n",
       "</style>\n",
       "<table border=\"1\" class=\"dataframe\">\n",
       "  <thead>\n",
       "    <tr style=\"text-align: right;\">\n",
       "      <th></th>\n",
       "      <th>1disk</th>\n",
       "      <th>2disk</th>\n",
       "      <th>3disk</th>\n",
       "      <th>4disk</th>\n",
       "      <th>5disk</th>\n",
       "      <th>6disk</th>\n",
       "      <th>5.00E+01</th>\n",
       "      <th>5.20E+01</th>\n",
       "      <th>5.40E+01</th>\n",
       "      <th>5.60E+01</th>\n",
       "      <th>...</th>\n",
       "      <th>1.58E+03.3</th>\n",
       "      <th>1.58E+03.4</th>\n",
       "      <th>1.59E+03</th>\n",
       "      <th>1.59E+03.1</th>\n",
       "      <th>1.59E+03.2</th>\n",
       "      <th>1.59E+03.3</th>\n",
       "      <th>1.59E+03.4</th>\n",
       "      <th>1.60E+03</th>\n",
       "      <th>1.60E+03.1</th>\n",
       "      <th>1.60E+03.2</th>\n",
       "    </tr>\n",
       "  </thead>\n",
       "  <tbody>\n",
       "    <tr>\n",
       "      <th>0</th>\n",
       "      <td>0.1</td>\n",
       "      <td>0.2</td>\n",
       "      <td>0.3</td>\n",
       "      <td>0.4</td>\n",
       "      <td>0.5</td>\n",
       "      <td>0.6</td>\n",
       "      <td>0.168</td>\n",
       "      <td>0.201</td>\n",
       "      <td>0.213</td>\n",
       "      <td>0.221</td>\n",
       "      <td>...</td>\n",
       "      <td>0.0776</td>\n",
       "      <td>0.0767</td>\n",
       "      <td>0.0769</td>\n",
       "      <td>0.0778</td>\n",
       "      <td>0.0773</td>\n",
       "      <td>0.0781</td>\n",
       "      <td>0.0785</td>\n",
       "      <td>0.0786</td>\n",
       "      <td>0.0787</td>\n",
       "      <td>0.0790</td>\n",
       "    </tr>\n",
       "    <tr>\n",
       "      <th>1</th>\n",
       "      <td>0.1</td>\n",
       "      <td>0.2</td>\n",
       "      <td>0.3</td>\n",
       "      <td>0.4</td>\n",
       "      <td>0.6</td>\n",
       "      <td>0.5</td>\n",
       "      <td>0.151</td>\n",
       "      <td>0.186</td>\n",
       "      <td>0.186</td>\n",
       "      <td>0.207</td>\n",
       "      <td>...</td>\n",
       "      <td>0.0808</td>\n",
       "      <td>0.0809</td>\n",
       "      <td>0.0804</td>\n",
       "      <td>0.0803</td>\n",
       "      <td>0.0801</td>\n",
       "      <td>0.0811</td>\n",
       "      <td>0.0810</td>\n",
       "      <td>0.0813</td>\n",
       "      <td>0.0814</td>\n",
       "      <td>0.0811</td>\n",
       "    </tr>\n",
       "    <tr>\n",
       "      <th>2</th>\n",
       "      <td>0.1</td>\n",
       "      <td>0.2</td>\n",
       "      <td>0.3</td>\n",
       "      <td>0.5</td>\n",
       "      <td>0.4</td>\n",
       "      <td>0.6</td>\n",
       "      <td>0.166</td>\n",
       "      <td>0.202</td>\n",
       "      <td>0.197</td>\n",
       "      <td>0.210</td>\n",
       "      <td>...</td>\n",
       "      <td>0.0843</td>\n",
       "      <td>0.0845</td>\n",
       "      <td>0.0846</td>\n",
       "      <td>0.0846</td>\n",
       "      <td>0.0856</td>\n",
       "      <td>0.0855</td>\n",
       "      <td>0.0844</td>\n",
       "      <td>0.0856</td>\n",
       "      <td>0.0861</td>\n",
       "      <td>0.0860</td>\n",
       "    </tr>\n",
       "    <tr>\n",
       "      <th>3</th>\n",
       "      <td>0.1</td>\n",
       "      <td>0.2</td>\n",
       "      <td>0.3</td>\n",
       "      <td>0.5</td>\n",
       "      <td>0.6</td>\n",
       "      <td>0.4</td>\n",
       "      <td>0.174</td>\n",
       "      <td>0.197</td>\n",
       "      <td>0.186</td>\n",
       "      <td>0.193</td>\n",
       "      <td>...</td>\n",
       "      <td>0.0873</td>\n",
       "      <td>0.0876</td>\n",
       "      <td>0.0871</td>\n",
       "      <td>0.0876</td>\n",
       "      <td>0.0880</td>\n",
       "      <td>0.0878</td>\n",
       "      <td>0.0871</td>\n",
       "      <td>0.0883</td>\n",
       "      <td>0.0885</td>\n",
       "      <td>0.0878</td>\n",
       "    </tr>\n",
       "    <tr>\n",
       "      <th>4</th>\n",
       "      <td>0.1</td>\n",
       "      <td>0.2</td>\n",
       "      <td>0.3</td>\n",
       "      <td>0.6</td>\n",
       "      <td>0.4</td>\n",
       "      <td>0.5</td>\n",
       "      <td>0.139</td>\n",
       "      <td>0.166</td>\n",
       "      <td>0.161</td>\n",
       "      <td>0.183</td>\n",
       "      <td>...</td>\n",
       "      <td>0.0784</td>\n",
       "      <td>0.0789</td>\n",
       "      <td>0.0783</td>\n",
       "      <td>0.0784</td>\n",
       "      <td>0.0782</td>\n",
       "      <td>0.0786</td>\n",
       "      <td>0.0788</td>\n",
       "      <td>0.0797</td>\n",
       "      <td>0.0794</td>\n",
       "      <td>0.0786</td>\n",
       "    </tr>\n",
       "  </tbody>\n",
       "</table>\n",
       "<p>5 rows × 782 columns</p>\n",
       "</div>"
      ],
      "text/plain": [
       "   1disk  2disk  3disk  4disk  5disk  6disk  5.00E+01  5.20E+01  5.40E+01  \\\n",
       "0    0.1    0.2    0.3    0.4    0.5    0.6     0.168     0.201     0.213   \n",
       "1    0.1    0.2    0.3    0.4    0.6    0.5     0.151     0.186     0.186   \n",
       "2    0.1    0.2    0.3    0.5    0.4    0.6     0.166     0.202     0.197   \n",
       "3    0.1    0.2    0.3    0.5    0.6    0.4     0.174     0.197     0.186   \n",
       "4    0.1    0.2    0.3    0.6    0.4    0.5     0.139     0.166     0.161   \n",
       "\n",
       "   5.60E+01  ...  1.58E+03.3  1.58E+03.4  1.59E+03  1.59E+03.1  1.59E+03.2  \\\n",
       "0     0.221  ...      0.0776      0.0767    0.0769      0.0778      0.0773   \n",
       "1     0.207  ...      0.0808      0.0809    0.0804      0.0803      0.0801   \n",
       "2     0.210  ...      0.0843      0.0845    0.0846      0.0846      0.0856   \n",
       "3     0.193  ...      0.0873      0.0876    0.0871      0.0876      0.0880   \n",
       "4     0.183  ...      0.0784      0.0789    0.0783      0.0784      0.0782   \n",
       "\n",
       "   1.59E+03.3  1.59E+03.4  1.60E+03  1.60E+03.1  1.60E+03.2  \n",
       "0      0.0781      0.0785    0.0786      0.0787      0.0790  \n",
       "1      0.0811      0.0810    0.0813      0.0814      0.0811  \n",
       "2      0.0855      0.0844    0.0856      0.0861      0.0860  \n",
       "3      0.0878      0.0871    0.0883      0.0885      0.0878  \n",
       "4      0.0786      0.0788    0.0797      0.0794      0.0786  \n",
       "\n",
       "[5 rows x 782 columns]"
      ]
     },
     "execution_count": 2,
     "metadata": {},
     "output_type": "execute_result"
    }
   ],
   "source": [
    "df = pd.read_csv('6Combinations.csv')\n",
    "df.head()"
   ]
  },
  {
   "cell_type": "code",
   "execution_count": 3,
   "id": "ff07358e",
   "metadata": {},
   "outputs": [
    {
     "name": "stdout",
     "output_type": "stream",
     "text": [
      "<class 'pandas.core.frame.DataFrame'>\n",
      "RangeIndex: 400 entries, 0 to 399\n",
      "Columns: 782 entries, 1disk to 1.60E+03.2\n",
      "dtypes: float64(782)\n",
      "memory usage: 2.4 MB\n"
     ]
    }
   ],
   "source": [
    "df.info()"
   ]
  },
  {
   "cell_type": "code",
   "execution_count": 4,
   "id": "41197411",
   "metadata": {},
   "outputs": [],
   "source": [
    "dependent_variable = df.iloc[:,:6]\n",
    "independent_variables = df.iloc[:,6:]"
   ]
  },
  {
   "cell_type": "code",
   "execution_count": 5,
   "id": "bdff7629",
   "metadata": {},
   "outputs": [],
   "source": [
    "from sklearn.model_selection import train_test_split\n",
    "# Splitting data into 70:30 train:test ratio\n",
    "X_train,X_test,Y_train,Y_test=train_test_split(independent_variables, dependent_variable, test_size=0.3)"
   ]
  },
  {
   "cell_type": "code",
   "execution_count": 6,
   "id": "1fee1e69",
   "metadata": {},
   "outputs": [
    {
     "data": {
      "text/plain": [
       "'from sklearn.preprocessing import StandardScaler\\nscaler = StandardScaler()\\nscaler.fit(X_train)\\n\\nX_train = scaler.transform(X_train)\\nX_test = scaler.transform(X_test)'"
      ]
     },
     "execution_count": 6,
     "metadata": {},
     "output_type": "execute_result"
    }
   ],
   "source": [
    "'''from sklearn.preprocessing import StandardScaler\n",
    "scaler = StandardScaler()\n",
    "scaler.fit(X_train)\n",
    "\n",
    "X_train = scaler.transform(X_train)\n",
    "X_test = scaler.transform(X_test)'''"
   ]
  },
  {
   "cell_type": "code",
   "execution_count": 7,
   "id": "eeffc335",
   "metadata": {},
   "outputs": [
    {
     "data": {
      "text/plain": [
       "MLPRegressor()"
      ]
     },
     "execution_count": 7,
     "metadata": {},
     "output_type": "execute_result"
    }
   ],
   "source": [
    "from sklearn.neural_network import MLPRegressor\n",
    "mlp = MLPRegressor()\n",
    "mlp.fit(X_train, Y_train)"
   ]
  },
  {
   "cell_type": "code",
   "execution_count": 8,
   "id": "14692c9a",
   "metadata": {},
   "outputs": [],
   "source": [
    "predictions = mlp.predict(X_test)"
   ]
  },
  {
   "cell_type": "code",
   "execution_count": 9,
   "id": "d0eccdcd",
   "metadata": {},
   "outputs": [
    {
     "name": "stdout",
     "output_type": "stream",
     "text": [
      "Evaluating the results for test data\n",
      "MSE :  0.013232025106111664\n",
      "RMSE :  0.11503053988446574\n",
      "MAE :  0.08773247606898564\n"
     ]
    }
   ],
   "source": [
    "# Evaluate the results for test dataset\n",
    "from sklearn.metrics import mean_squared_error, mean_absolute_error\n",
    "from math import sqrt\n",
    "print('Evaluating the results for test data')\n",
    "print('MSE : ', mean_squared_error(Y_test, predictions))\n",
    "print('RMSE : ', sqrt(mean_squared_error(Y_test, predictions)))\n",
    "print('MAE : ', mean_absolute_error(Y_test, predictions))"
   ]
  },
  {
   "cell_type": "code",
   "execution_count": 10,
   "id": "0cb25203",
   "metadata": {},
   "outputs": [
    {
     "name": "stdout",
     "output_type": "stream",
     "text": [
      "Evaluating the results for train data\n",
      "MSE :  0.011084762787884292\n",
      "RMSE :  0.10528420008664306\n",
      "MAE :  0.08071177904736357\n"
     ]
    }
   ],
   "source": [
    "# Evaludate the results for train dataset\n",
    "print('Evaluating the results for train data')\n",
    "print('MSE : ', mean_squared_error(Y_train, mlp.predict(X_train)))\n",
    "print('RMSE : ', sqrt(mean_squared_error(Y_train, mlp.predict(X_train))))\n",
    "print('MAE : ', mean_absolute_error(Y_train, mlp.predict(X_train)))"
   ]
  },
  {
   "cell_type": "code",
   "execution_count": 11,
   "id": "20e88171",
   "metadata": {},
   "outputs": [],
   "source": [
    "from sklearn.model_selection import GridSearchCV\n",
    "mlp = MLPRegressor() \n",
    "grid_values = {'max_iter':[300, 400, 500, 600, 700, 800, 900, 1000, 1100, 1200, 1300, 1400, 1500],\n",
    "              'hidden_layer_sizes':[(400,300), (400,400),(500,400),(500,500)],\n",
    "              'learning_rate_init':[0.001],\n",
    "              'batch_size':[30]}\n",
    "grid_mlp = GridSearchCV(mlp, param_grid = grid_values, cv=3)"
   ]
  },
  {
   "cell_type": "code",
   "execution_count": 12,
   "id": "595205d0",
   "metadata": {},
   "outputs": [
    {
     "data": {
      "text/plain": [
       "GridSearchCV(cv=3, estimator=MLPRegressor(),\n",
       "             param_grid={'batch_size': [30],\n",
       "                         'hidden_layer_sizes': [(400, 300), (400, 400),\n",
       "                                                (500, 400), (500, 500)],\n",
       "                         'learning_rate_init': [0.001],\n",
       "                         'max_iter': [300, 400, 500, 600, 700, 800, 900, 1000,\n",
       "                                      1100, 1200, 1300, 1400, 1500]})"
      ]
     },
     "execution_count": 12,
     "metadata": {},
     "output_type": "execute_result"
    }
   ],
   "source": [
    "grid_mlp.fit(X_train, Y_train)"
   ]
  },
  {
   "cell_type": "code",
   "execution_count": 13,
   "id": "94e73331",
   "metadata": {},
   "outputs": [
    {
     "data": {
      "text/plain": [
       "{'batch_size': 30,\n",
       " 'hidden_layer_sizes': (400, 400),\n",
       " 'learning_rate_init': 0.001,\n",
       " 'max_iter': 1200}"
      ]
     },
     "execution_count": 13,
     "metadata": {},
     "output_type": "execute_result"
    }
   ],
   "source": [
    "grid_mlp.best_params_"
   ]
  },
  {
   "cell_type": "code",
   "execution_count": 14,
   "id": "15d695a0",
   "metadata": {},
   "outputs": [
    {
     "name": "stdout",
     "output_type": "stream",
     "text": [
      "Evaluating the results for test data\n",
      "MSE :  0.009404580321816904\n",
      "RMSE :  0.09697721547774459\n",
      "MAE :  0.06626433742451031\n"
     ]
    }
   ],
   "source": [
    "# Predict values based on new parameters\n",
    "Y_test_pred = grid_mlp.predict(X_test)\n",
    "print('Evaluating the results for test data')\n",
    "print('MSE : ', mean_squared_error(Y_test, Y_test_pred))\n",
    "print('RMSE : ', sqrt(mean_squared_error(Y_test, Y_test_pred)))\n",
    "print('MAE : ', mean_absolute_error(Y_test, Y_test_pred))"
   ]
  },
  {
   "cell_type": "code",
   "execution_count": 15,
   "id": "d96c9131",
   "metadata": {},
   "outputs": [
    {
     "data": {
      "text/plain": [
       "dict_keys(['activation', 'alpha', 'batch_size', 'beta_1', 'beta_2', 'early_stopping', 'epsilon', 'hidden_layer_sizes', 'learning_rate', 'learning_rate_init', 'max_fun', 'max_iter', 'momentum', 'n_iter_no_change', 'nesterovs_momentum', 'power_t', 'random_state', 'shuffle', 'solver', 'tol', 'validation_fraction', 'verbose', 'warm_start'])"
      ]
     },
     "execution_count": 15,
     "metadata": {},
     "output_type": "execute_result"
    }
   ],
   "source": [
    "mlp.get_params().keys()"
   ]
  },
  {
   "cell_type": "code",
   "execution_count": null,
   "id": "6ca71f08",
   "metadata": {},
   "outputs": [],
   "source": []
  }
 ],
 "metadata": {
  "kernelspec": {
   "display_name": "Python 3",
   "language": "python",
   "name": "python3"
  },
  "language_info": {
   "codemirror_mode": {
    "name": "ipython",
    "version": 3
   },
   "file_extension": ".py",
   "mimetype": "text/x-python",
   "name": "python",
   "nbconvert_exporter": "python",
   "pygments_lexer": "ipython3",
   "version": "3.8.8"
  }
 },
 "nbformat": 4,
 "nbformat_minor": 5
}
