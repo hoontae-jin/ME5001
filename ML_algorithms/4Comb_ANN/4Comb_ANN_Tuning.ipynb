{
 "cells": [
  {
   "cell_type": "code",
   "execution_count": 1,
   "id": "03cd2508",
   "metadata": {},
   "outputs": [],
   "source": [
    "import pandas as pd\n",
    "import warnings\n",
    "warnings.filterwarnings('ignore')"
   ]
  },
  {
   "cell_type": "code",
   "execution_count": 2,
   "id": "7962d918",
   "metadata": {},
   "outputs": [
    {
     "data": {
      "text/html": [
       "<div>\n",
       "<style scoped>\n",
       "    .dataframe tbody tr th:only-of-type {\n",
       "        vertical-align: middle;\n",
       "    }\n",
       "\n",
       "    .dataframe tbody tr th {\n",
       "        vertical-align: top;\n",
       "    }\n",
       "\n",
       "    .dataframe thead th {\n",
       "        text-align: right;\n",
       "    }\n",
       "</style>\n",
       "<table border=\"1\" class=\"dataframe\">\n",
       "  <thead>\n",
       "    <tr style=\"text-align: right;\">\n",
       "      <th></th>\n",
       "      <th>FirstDisk</th>\n",
       "      <th>SecondDisk</th>\n",
       "      <th>ThirdDisk</th>\n",
       "      <th>FourthDisk</th>\n",
       "      <th>FirstRing</th>\n",
       "      <th>SecondRing</th>\n",
       "      <th>ThirdRing</th>\n",
       "      <th>5.00E+01</th>\n",
       "      <th>5.20E+01</th>\n",
       "      <th>5.40E+01</th>\n",
       "      <th>...</th>\n",
       "      <th>1.58E+03.3</th>\n",
       "      <th>1.58E+03.4</th>\n",
       "      <th>1.59E+03</th>\n",
       "      <th>1.59E+03.1</th>\n",
       "      <th>1.59E+03.2</th>\n",
       "      <th>1.59E+03.3</th>\n",
       "      <th>1.59E+03.4</th>\n",
       "      <th>1.60E+03</th>\n",
       "      <th>1.60E+03.1</th>\n",
       "      <th>1.60E+03.2</th>\n",
       "    </tr>\n",
       "  </thead>\n",
       "  <tbody>\n",
       "    <tr>\n",
       "      <th>0</th>\n",
       "      <td>1</td>\n",
       "      <td>2</td>\n",
       "      <td>3</td>\n",
       "      <td>4</td>\n",
       "      <td>10</td>\n",
       "      <td>10</td>\n",
       "      <td>10</td>\n",
       "      <td>0.0306</td>\n",
       "      <td>0.0419</td>\n",
       "      <td>0.00886</td>\n",
       "      <td>...</td>\n",
       "      <td>0.0529</td>\n",
       "      <td>0.0525</td>\n",
       "      <td>0.0521</td>\n",
       "      <td>0.0535</td>\n",
       "      <td>0.0533</td>\n",
       "      <td>0.0512</td>\n",
       "      <td>0.0517</td>\n",
       "      <td>0.0518</td>\n",
       "      <td>0.0521</td>\n",
       "      <td>0.0526</td>\n",
       "    </tr>\n",
       "    <tr>\n",
       "      <th>1</th>\n",
       "      <td>1</td>\n",
       "      <td>2</td>\n",
       "      <td>4</td>\n",
       "      <td>3</td>\n",
       "      <td>10</td>\n",
       "      <td>10</td>\n",
       "      <td>10</td>\n",
       "      <td>0.0602</td>\n",
       "      <td>0.0686</td>\n",
       "      <td>0.04800</td>\n",
       "      <td>...</td>\n",
       "      <td>0.0660</td>\n",
       "      <td>0.0658</td>\n",
       "      <td>0.0655</td>\n",
       "      <td>0.0669</td>\n",
       "      <td>0.0670</td>\n",
       "      <td>0.0661</td>\n",
       "      <td>0.0658</td>\n",
       "      <td>0.0668</td>\n",
       "      <td>0.0674</td>\n",
       "      <td>0.0675</td>\n",
       "    </tr>\n",
       "    <tr>\n",
       "      <th>2</th>\n",
       "      <td>1</td>\n",
       "      <td>3</td>\n",
       "      <td>2</td>\n",
       "      <td>4</td>\n",
       "      <td>10</td>\n",
       "      <td>10</td>\n",
       "      <td>10</td>\n",
       "      <td>0.0608</td>\n",
       "      <td>0.0760</td>\n",
       "      <td>0.05830</td>\n",
       "      <td>...</td>\n",
       "      <td>0.0627</td>\n",
       "      <td>0.0618</td>\n",
       "      <td>0.0614</td>\n",
       "      <td>0.0625</td>\n",
       "      <td>0.0631</td>\n",
       "      <td>0.0610</td>\n",
       "      <td>0.0610</td>\n",
       "      <td>0.0617</td>\n",
       "      <td>0.0621</td>\n",
       "      <td>0.0622</td>\n",
       "    </tr>\n",
       "    <tr>\n",
       "      <th>3</th>\n",
       "      <td>1</td>\n",
       "      <td>3</td>\n",
       "      <td>4</td>\n",
       "      <td>2</td>\n",
       "      <td>10</td>\n",
       "      <td>10</td>\n",
       "      <td>10</td>\n",
       "      <td>0.0528</td>\n",
       "      <td>0.0582</td>\n",
       "      <td>0.02500</td>\n",
       "      <td>...</td>\n",
       "      <td>0.0529</td>\n",
       "      <td>0.0526</td>\n",
       "      <td>0.0513</td>\n",
       "      <td>0.0522</td>\n",
       "      <td>0.0527</td>\n",
       "      <td>0.0517</td>\n",
       "      <td>0.0513</td>\n",
       "      <td>0.0518</td>\n",
       "      <td>0.0522</td>\n",
       "      <td>0.0531</td>\n",
       "    </tr>\n",
       "    <tr>\n",
       "      <th>4</th>\n",
       "      <td>1</td>\n",
       "      <td>4</td>\n",
       "      <td>2</td>\n",
       "      <td>3</td>\n",
       "      <td>10</td>\n",
       "      <td>10</td>\n",
       "      <td>10</td>\n",
       "      <td>0.0279</td>\n",
       "      <td>0.0407</td>\n",
       "      <td>0.01800</td>\n",
       "      <td>...</td>\n",
       "      <td>0.1040</td>\n",
       "      <td>0.1040</td>\n",
       "      <td>0.1030</td>\n",
       "      <td>0.1040</td>\n",
       "      <td>0.1050</td>\n",
       "      <td>0.1030</td>\n",
       "      <td>0.1030</td>\n",
       "      <td>0.1030</td>\n",
       "      <td>0.1040</td>\n",
       "      <td>0.1040</td>\n",
       "    </tr>\n",
       "  </tbody>\n",
       "</table>\n",
       "<p>5 rows × 783 columns</p>\n",
       "</div>"
      ],
      "text/plain": [
       "   FirstDisk  SecondDisk  ThirdDisk  FourthDisk  FirstRing  SecondRing  \\\n",
       "0          1           2          3           4         10          10   \n",
       "1          1           2          4           3         10          10   \n",
       "2          1           3          2           4         10          10   \n",
       "3          1           3          4           2         10          10   \n",
       "4          1           4          2           3         10          10   \n",
       "\n",
       "   ThirdRing  5.00E+01  5.20E+01  5.40E+01  ...  1.58E+03.3  1.58E+03.4  \\\n",
       "0         10    0.0306    0.0419   0.00886  ...      0.0529      0.0525   \n",
       "1         10    0.0602    0.0686   0.04800  ...      0.0660      0.0658   \n",
       "2         10    0.0608    0.0760   0.05830  ...      0.0627      0.0618   \n",
       "3         10    0.0528    0.0582   0.02500  ...      0.0529      0.0526   \n",
       "4         10    0.0279    0.0407   0.01800  ...      0.1040      0.1040   \n",
       "\n",
       "   1.59E+03  1.59E+03.1  1.59E+03.2  1.59E+03.3  1.59E+03.4  1.60E+03  \\\n",
       "0    0.0521      0.0535      0.0533      0.0512      0.0517    0.0518   \n",
       "1    0.0655      0.0669      0.0670      0.0661      0.0658    0.0668   \n",
       "2    0.0614      0.0625      0.0631      0.0610      0.0610    0.0617   \n",
       "3    0.0513      0.0522      0.0527      0.0517      0.0513    0.0518   \n",
       "4    0.1030      0.1040      0.1050      0.1030      0.1030    0.1030   \n",
       "\n",
       "   1.60E+03.1  1.60E+03.2  \n",
       "0      0.0521      0.0526  \n",
       "1      0.0674      0.0675  \n",
       "2      0.0621      0.0622  \n",
       "3      0.0522      0.0531  \n",
       "4      0.1040      0.1040  \n",
       "\n",
       "[5 rows x 783 columns]"
      ]
     },
     "execution_count": 2,
     "metadata": {},
     "output_type": "execute_result"
    }
   ],
   "source": [
    "df = pd.read_csv('4Combinations.csv')\n",
    "df.head()"
   ]
  },
  {
   "cell_type": "code",
   "execution_count": 3,
   "id": "ff07358e",
   "metadata": {},
   "outputs": [
    {
     "name": "stdout",
     "output_type": "stream",
     "text": [
      "<class 'pandas.core.frame.DataFrame'>\n",
      "RangeIndex: 57 entries, 0 to 56\n",
      "Columns: 783 entries, FirstDisk to 1.60E+03.2\n",
      "dtypes: float64(776), int64(7)\n",
      "memory usage: 348.8 KB\n"
     ]
    }
   ],
   "source": [
    "df.info()"
   ]
  },
  {
   "cell_type": "code",
   "execution_count": 4,
   "id": "41197411",
   "metadata": {},
   "outputs": [],
   "source": [
    "dependent_variable = df.iloc[:,:6]\n",
    "independent_variables = df.iloc[:,6:]"
   ]
  },
  {
   "cell_type": "code",
   "execution_count": 5,
   "id": "bdff7629",
   "metadata": {},
   "outputs": [],
   "source": [
    "from sklearn.model_selection import train_test_split\n",
    "# Splitting data into 70:30 train:test ratio\n",
    "X_train,X_test,Y_train,Y_test=train_test_split(independent_variables, dependent_variable, test_size=0.3)"
   ]
  },
  {
   "cell_type": "code",
   "execution_count": 6,
   "id": "1fee1e69",
   "metadata": {},
   "outputs": [
    {
     "data": {
      "text/plain": [
       "'from sklearn.preprocessing import StandardScaler\\nscaler = StandardScaler()\\nscaler.fit(X_train)\\n\\nX_train = scaler.transform(X_train)\\nX_test = scaler.transform(X_test)'"
      ]
     },
     "execution_count": 6,
     "metadata": {},
     "output_type": "execute_result"
    }
   ],
   "source": [
    "'''from sklearn.preprocessing import StandardScaler\n",
    "scaler = StandardScaler()\n",
    "scaler.fit(X_train)\n",
    "\n",
    "X_train = scaler.transform(X_train)\n",
    "X_test = scaler.transform(X_test)'''"
   ]
  },
  {
   "cell_type": "code",
   "execution_count": 7,
   "id": "eeffc335",
   "metadata": {},
   "outputs": [
    {
     "data": {
      "text/plain": [
       "MLPRegressor()"
      ]
     },
     "execution_count": 7,
     "metadata": {},
     "output_type": "execute_result"
    }
   ],
   "source": [
    "from sklearn.neural_network import MLPRegressor\n",
    "mlp = MLPRegressor()\n",
    "mlp.fit(X_train, Y_train)"
   ]
  },
  {
   "cell_type": "code",
   "execution_count": 8,
   "id": "14692c9a",
   "metadata": {},
   "outputs": [],
   "source": [
    "predictions = mlp.predict(X_test)"
   ]
  },
  {
   "cell_type": "code",
   "execution_count": 9,
   "id": "d0eccdcd",
   "metadata": {},
   "outputs": [
    {
     "name": "stdout",
     "output_type": "stream",
     "text": [
      "Evaluating the results for test data\n",
      "MSE :  2.1268333110468083\n",
      "RMSE :  1.4583666586448034\n",
      "MAE :  1.1465380418430549\n"
     ]
    }
   ],
   "source": [
    "# Evaluate the results for test dataset\n",
    "from sklearn.metrics import mean_squared_error, mean_absolute_error\n",
    "from math import sqrt\n",
    "print('Evaluating the results for test data')\n",
    "print('MSE : ', mean_squared_error(Y_test, predictions))\n",
    "print('RMSE : ', sqrt(mean_squared_error(Y_test, predictions)))\n",
    "print('MAE : ', mean_absolute_error(Y_test, predictions))"
   ]
  },
  {
   "cell_type": "code",
   "execution_count": 10,
   "id": "0cb25203",
   "metadata": {},
   "outputs": [
    {
     "name": "stdout",
     "output_type": "stream",
     "text": [
      "Evaluating the results for train data\n",
      "MSE :  0.9366682807419888\n",
      "RMSE :  0.9678162432724452\n",
      "MAE :  0.7542992920420826\n"
     ]
    }
   ],
   "source": [
    "# Evaludate the results for train dataset\n",
    "print('Evaluating the results for train data')\n",
    "print('MSE : ', mean_squared_error(Y_train, mlp.predict(X_train)))\n",
    "print('RMSE : ', sqrt(mean_squared_error(Y_train, mlp.predict(X_train))))\n",
    "print('MAE : ', mean_absolute_error(Y_train, mlp.predict(X_train)))"
   ]
  },
  {
   "cell_type": "code",
   "execution_count": 11,
   "id": "20e88171",
   "metadata": {},
   "outputs": [],
   "source": [
    "from sklearn.model_selection import GridSearchCV\n",
    "mlp = MLPRegressor() \n",
    "grid_values = {'max_iter':[300, 400, 500, 600, 700, 800, 900, 1000, 1100, 1200, 1300, 1400, 1500],\n",
    "              'hidden_layer_sizes':[(400,300), (400,400),(500,400),(500,500)],\n",
    "              'learning_rate_init':[0.001],\n",
    "              'batch_size':[30]}\n",
    "grid_mlp = GridSearchCV(mlp, param_grid = grid_values, cv=3)"
   ]
  },
  {
   "cell_type": "code",
   "execution_count": 12,
   "id": "595205d0",
   "metadata": {},
   "outputs": [
    {
     "data": {
      "text/plain": [
       "GridSearchCV(cv=3, estimator=MLPRegressor(),\n",
       "             param_grid={'batch_size': [30],\n",
       "                         'hidden_layer_sizes': [(400, 300), (400, 400),\n",
       "                                                (500, 400), (500, 500)],\n",
       "                         'learning_rate_init': [0.001],\n",
       "                         'max_iter': [300, 400, 500, 600, 700, 800, 900, 1000,\n",
       "                                      1100, 1200, 1300, 1400, 1500]})"
      ]
     },
     "execution_count": 12,
     "metadata": {},
     "output_type": "execute_result"
    }
   ],
   "source": [
    "grid_mlp.fit(X_train, Y_train)"
   ]
  },
  {
   "cell_type": "code",
   "execution_count": 13,
   "id": "94e73331",
   "metadata": {},
   "outputs": [
    {
     "data": {
      "text/plain": [
       "{'batch_size': 30,\n",
       " 'hidden_layer_sizes': (500, 400),\n",
       " 'learning_rate_init': 0.001,\n",
       " 'max_iter': 500}"
      ]
     },
     "execution_count": 13,
     "metadata": {},
     "output_type": "execute_result"
    }
   ],
   "source": [
    "grid_mlp.best_params_"
   ]
  },
  {
   "cell_type": "code",
   "execution_count": 14,
   "id": "15d695a0",
   "metadata": {},
   "outputs": [
    {
     "name": "stdout",
     "output_type": "stream",
     "text": [
      "Evaluating the results for test data\n",
      "MSE :  0.967183176176698\n",
      "RMSE :  0.9834547148581362\n",
      "MAE :  0.7315924494355815\n"
     ]
    }
   ],
   "source": [
    "# Predict values based on new parameters\n",
    "Y_test_pred = grid_mlp.predict(X_test)\n",
    "print('Evaluating the results for test data')\n",
    "print('MSE : ', mean_squared_error(Y_test, Y_test_pred))\n",
    "print('RMSE : ', sqrt(mean_squared_error(Y_test, Y_test_pred)))\n",
    "print('MAE : ', mean_absolute_error(Y_test, Y_test_pred))"
   ]
  },
  {
   "cell_type": "code",
   "execution_count": 15,
   "id": "d96c9131",
   "metadata": {},
   "outputs": [
    {
     "data": {
      "text/plain": [
       "dict_keys(['activation', 'alpha', 'batch_size', 'beta_1', 'beta_2', 'early_stopping', 'epsilon', 'hidden_layer_sizes', 'learning_rate', 'learning_rate_init', 'max_fun', 'max_iter', 'momentum', 'n_iter_no_change', 'nesterovs_momentum', 'power_t', 'random_state', 'shuffle', 'solver', 'tol', 'validation_fraction', 'verbose', 'warm_start'])"
      ]
     },
     "execution_count": 15,
     "metadata": {},
     "output_type": "execute_result"
    }
   ],
   "source": [
    "mlp.get_params().keys()"
   ]
  },
  {
   "cell_type": "code",
   "execution_count": null,
   "id": "6ca71f08",
   "metadata": {},
   "outputs": [],
   "source": []
  }
 ],
 "metadata": {
  "kernelspec": {
   "display_name": "Python 3",
   "language": "python",
   "name": "python3"
  },
  "language_info": {
   "codemirror_mode": {
    "name": "ipython",
    "version": 3
   },
   "file_extension": ".py",
   "mimetype": "text/x-python",
   "name": "python",
   "nbconvert_exporter": "python",
   "pygments_lexer": "ipython3",
   "version": "3.8.8"
  }
 },
 "nbformat": 4,
 "nbformat_minor": 5
}
